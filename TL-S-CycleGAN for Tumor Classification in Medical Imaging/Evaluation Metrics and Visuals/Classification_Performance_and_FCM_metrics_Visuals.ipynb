{
  "nbformat": 4,
  "nbformat_minor": 0,
  "metadata": {
    "colab": {
      "provenance": []
    },
    "kernelspec": {
      "name": "python3",
      "display_name": "Python 3"
    },
    "language_info": {
      "name": "python"
    }
  },
  "cells": [
    {
      "cell_type": "markdown",
      "source": [
        "# **🧠 TL-S-CycleGAN (ResNet-50 Based Discriminator)**"
      ],
      "metadata": {
        "id": "E4YVUrRpOmzV"
      }
    },
    {
      "cell_type": "markdown",
      "source": [
        "## Import Required Libraries\n",
        "We start by importing the essential PyTorch libraries, dataset utilities, and image processing tools needed for building and testing our CycleGAN variant with a ResNet-50 based discriminator.\n"
      ],
      "metadata": {
        "id": "MLc4ldCzOqOd"
      }
    },
    {
      "cell_type": "code",
      "execution_count": null,
      "metadata": {
        "id": "eylqNP3lAdYD"
      },
      "outputs": [],
      "source": [
        "import torch\n",
        "import torch.nn as nn\n",
        "import torch.optim as optim\n",
        "from torchvision import datasets, transforms\n",
        "from torch.utils.data import DataLoader\n",
        "from PIL import Image\n",
        "import os\n",
        "import itertools\n",
        "from torch.autograd import Variable"
      ]
    },
    {
      "cell_type": "markdown",
      "source": [
        "## Mount Google Drive\n",
        "Since our datasets and pre-trained models are stored in Google Drive, we mount it here to access files directly within Colab.\n"
      ],
      "metadata": {
        "id": "wx7ox_FpOseG"
      }
    },
    {
      "cell_type": "code",
      "source": [
        "from google.colab import drive\n",
        "\n",
        "# Mount Google Drive\n",
        "drive.mount('/content/drive')"
      ],
      "metadata": {
        "colab": {
          "base_uri": "https://localhost:8080/"
        },
        "id": "maIFjipOAptf",
        "outputId": "c0917158-b45c-47eb-9fae-59d9e01c5ec8"
      },
      "execution_count": null,
      "outputs": [
        {
          "output_type": "stream",
          "name": "stdout",
          "text": [
            "Mounted at /content/drive\n"
          ]
        }
      ]
    },
    {
      "cell_type": "markdown",
      "source": [
        "## Define Data Transformations\n",
        "We specify how our test images should be preprocessed before being passed to the model — converting them to tensors and normalizing pixel values to the range [-1, 1].\n"
      ],
      "metadata": {
        "id": "rYLYAH7fOund"
      }
    },
    {
      "cell_type": "code",
      "source": [
        "# Load Data\n",
        "#Sequence of transformations\n",
        "transform = transforms.Compose([\n",
        "    transforms.ToTensor(),\n",
        "    transforms.Normalize((0.5, 0.5, 0.5), (0.5, 0.5, 0.5))\n",
        "])"
      ],
      "metadata": {
        "id": "QToITRrVApnW"
      },
      "execution_count": null,
      "outputs": []
    },
    {
      "cell_type": "markdown",
      "source": [
        "## Load Test Dataset\n",
        "We load the test dataset from Google Drive using `ImageFolder`, apply our transformations, and create a DataLoader for batch processing.  \n",
        "We also print the class names and their index mappings.\n"
      ],
      "metadata": {
        "id": "lJT3y2PEOw8A"
      }
    },
    {
      "cell_type": "code",
      "source": [
        "# Load dataset\n",
        "dataset_path = '/content/drive/MyDrive/my_data/test'\n",
        "dataset = datasets.ImageFolder(root=dataset_path, transform=transform)\n",
        "\n",
        "# Create DataLoader\n",
        "batch_size = 1\n",
        "test_loader = DataLoader(dataset, batch_size=batch_size, shuffle=False)\n",
        "\n",
        "# Check the dataset classes\n",
        "print(f'Classes: {dataset.classes}')\n",
        "print(f'Class to index mapping: {dataset.class_to_idx}')"
      ],
      "metadata": {
        "colab": {
          "base_uri": "https://localhost:8080/"
        },
        "id": "7NaXbZvbBR72",
        "outputId": "b26e3e81-8edb-4a7a-bae2-b916eb514f5b"
      },
      "execution_count": null,
      "outputs": [
        {
          "output_type": "stream",
          "name": "stdout",
          "text": [
            "Classes: ['benign', 'malignant']\n",
            "Class to index mapping: {'benign': 0, 'malignant': 1}\n"
          ]
        }
      ]
    },
    {
      "cell_type": "markdown",
      "source": [
        "## Count Images Per Class\n",
        "We verify the dataset balance by counting the number of test images for each class (Benign / Malignant) using Python’s `Counter`.\n"
      ],
      "metadata": {
        "id": "G8iuVi-vO0Iv"
      }
    },
    {
      "cell_type": "code",
      "source": [
        "from collections import Counter\n",
        "\n",
        "# Get the class to index mapping\n",
        "class_to_idx = dataset.class_to_idx\n",
        "print(f'Class to index mapping: {class_to_idx}')\n",
        "\n",
        "# Count the number of images per class\n",
        "class_counts = Counter([label for _, label in dataset])\n",
        "for class_name, class_index in class_to_idx.items():\n",
        "    print(f'Class {class_name} ({class_index}): {class_counts[class_index]} images')\n",
        "\n",
        "# Alternatively, you can get the counts in a dictionary\n",
        "counts = {class_name: class_counts[class_index] for class_name, class_index in class_to_idx.items()}\n",
        "print(f'Counts per class: {counts}')"
      ],
      "metadata": {
        "colab": {
          "base_uri": "https://localhost:8080/"
        },
        "id": "_9GYOeoOV0mt",
        "outputId": "8fadbbbb-dd42-4fd3-a83d-95cdccaaae91"
      },
      "execution_count": null,
      "outputs": [
        {
          "output_type": "stream",
          "name": "stdout",
          "text": [
            "Class to index mapping: {'benign': 0, 'malignant': 1}\n",
            "Class benign (0): 10 images\n",
            "Class malignant (1): 10 images\n",
            "Counts per class: {'benign': 10, 'malignant': 10}\n"
          ]
        }
      ]
    },
    {
      "cell_type": "markdown",
      "source": [
        "## Define ResNet-50 Dual Output Discriminator\n",
        "We create a custom discriminator based on pre-trained ResNet-50.  \n",
        "This model outputs two predictions:\n",
        "- **Real vs Fake** classification  \n",
        "- **Benign vs Malignant** classification  \n",
        "The fully connected layer of ResNet is replaced with dual heads for these outputs.\n"
      ],
      "metadata": {
        "id": "giODsGdNO3Tq"
      }
    },
    {
      "cell_type": "code",
      "source": [
        "from torchvision.models import resnet50, ResNet50_Weights #pre trained resnet 50 with weights\n",
        "class ResNet50DualOutputDiscriminator(nn.Module):\n",
        "    def __init__(self, num_classes=2):\n",
        "        super(ResNet50DualOutputDiscriminator, self).__init__()\n",
        "        self.resnet = resnet50(weights=ResNet50_Weights.DEFAULT)\n",
        "        self.resnet.fc = nn.Identity()  # Removing the fully connected layer\n",
        "\n",
        "        # Real/Fake classifier\n",
        "        self.rf_classifier = nn.Sequential(\n",
        "            nn.Linear(2048, 512),\n",
        "            nn.ReLU(),\n",
        "            nn.Dropout(0.4),\n",
        "            nn.Linear(512, 1),\n",
        "            nn.Sigmoid()\n",
        "        )\n",
        "\n",
        "        #Benign/Malignant classifier\n",
        "        self.class_classifier = nn.Sequential(\n",
        "            nn.Linear(2048, 512),\n",
        "            nn.ReLU(),\n",
        "            nn.Dropout(0.4),\n",
        "            nn.Linear(512, num_classes)\n",
        "        )\n",
        "\n",
        "    def forward(self, x):\n",
        "        features = self.resnet(x)\n",
        "        real_fake_output = self.rf_classifier(features)\n",
        "        class_output = self.class_classifier(features)\n",
        "        return real_fake_output , class_output\n"
      ],
      "metadata": {
        "id": "WCu2woAIAph-"
      },
      "execution_count": null,
      "outputs": []
    },
    {
      "cell_type": "markdown",
      "source": [
        "## Load Model Utility Function\n",
        "We define a helper function to load a given model class from a saved `.pth` file and set it to evaluation mode.\n"
      ],
      "metadata": {
        "id": "XT6lPScMO6Hy"
      }
    },
    {
      "cell_type": "code",
      "source": [
        "# Load the Models\n",
        "import torch\n",
        "import torch.nn as nn\n",
        "from torchvision.models import resnet50, ResNet50_Weights, vgg16, VGG16_Weights\n",
        "\n",
        "def load_model(model_class, model_path, device):\n",
        "    model = model_class().to(device)\n",
        "    model.load_state_dict(torch.load(model_path, map_location=device))\n",
        "    model.eval()  # Set to evaluation mode\n",
        "    return model"
      ],
      "metadata": {
        "id": "y6GVDERjBR0O"
      },
      "execution_count": null,
      "outputs": []
    },
    {
      "cell_type": "markdown",
      "source": [
        "## Set Device\n",
        "We check if CUDA (GPU) is available, otherwise default to CPU.\n"
      ],
      "metadata": {
        "id": "KjhMOlJePAix"
      }
    },
    {
      "cell_type": "code",
      "source": [
        "device = torch.device('cuda' if torch.cuda.is_available() else 'cpu')\n",
        "device"
      ],
      "metadata": {
        "colab": {
          "base_uri": "https://localhost:8080/"
        },
        "id": "KC_RgnksC4rU",
        "outputId": "49abe81b-a3fd-460e-9f64-80a9c644d68e"
      },
      "execution_count": null,
      "outputs": [
        {
          "output_type": "execute_result",
          "data": {
            "text/plain": [
              "device(type='cpu')"
            ]
          },
          "metadata": {},
          "execution_count": 8
        }
      ]
    },
    {
      "cell_type": "markdown",
      "source": [
        "## Model Path (ResNet-50 Discriminator)\n",
        "We specify the path to our trained ResNet-50 based discriminator weights stored in Google Drive.\n"
      ],
      "metadata": {
        "id": "zG30yLmjPC7j"
      }
    },
    {
      "cell_type": "code",
      "source": [
        "# Load the models\n",
        "resnet_discriminator_path = '/content/drive/MyDrive/My Research Work/Trained_Models/TL_CycleGAN_Models/netD_A_epoch_24.pth'"
      ],
      "metadata": {
        "id": "Xq0KDmAPCqVB"
      },
      "execution_count": null,
      "outputs": []
    },
    {
      "cell_type": "markdown",
      "source": [
        "## Load ResNet-50 Based Discriminator\n",
        "We load the trained model into memory using our `load_model` utility.\n"
      ],
      "metadata": {
        "id": "bvQKYL4fPGWt"
      }
    },
    {
      "cell_type": "code",
      "source": [
        "resnet_discriminator = load_model(ResNet50DualOutputDiscriminator, resnet_discriminator_path, device)"
      ],
      "metadata": {
        "id": "A2iRQRbkDCcw",
        "colab": {
          "base_uri": "https://localhost:8080/"
        },
        "outputId": "2bd6e44d-8bdd-42f8-bd14-02c6b3d5b9f5"
      },
      "execution_count": null,
      "outputs": [
        {
          "output_type": "stream",
          "name": "stderr",
          "text": [
            "Downloading: \"https://download.pytorch.org/models/resnet50-11ad3fa6.pth\" to /root/.cache/torch/hub/checkpoints/resnet50-11ad3fa6.pth\n",
            "100%|██████████| 97.8M/97.8M [00:01<00:00, 66.0MB/s]\n"
          ]
        }
      ]
    },
    {
      "cell_type": "markdown",
      "source": [
        "## Image Classification Function\n",
        "We define a function that runs inference on the test dataset using the discriminator, collecting predicted labels and true labels for evaluation.\n"
      ],
      "metadata": {
        "id": "kHKbdTBsPJmg"
      }
    },
    {
      "cell_type": "code",
      "source": [
        "# Function to classify images\n",
        "def classify_images(discriminator, dataloader, device):\n",
        "    discriminator.eval()  # Ensure the model is in evaluation mode\n",
        "    all_labels = []\n",
        "    all_preds = []\n",
        "\n",
        "    with torch.no_grad():\n",
        "        for data in dataloader:\n",
        "            images, labels = data\n",
        "            images = images.to(device)\n",
        "            labels = labels.to(device)\n",
        "\n",
        "            # Get the discriminator output\n",
        "            _, class_output = discriminator(images)\n",
        "            preds = class_output.argmax(dim=1)  # Get the predicted class\n",
        "\n",
        "            all_labels.extend(labels.cpu().numpy())\n",
        "            all_preds.extend(preds.cpu().numpy())\n",
        "\n",
        "    return all_labels, all_preds"
      ],
      "metadata": {
        "id": "iDjqDYl8DCU3"
      },
      "execution_count": null,
      "outputs": []
    },
    {
      "cell_type": "markdown",
      "source": [
        "## Classify Test Images\n",
        "We run the ResNet-50 discriminator on the test dataset and store predictions for later evaluation.\n"
      ],
      "metadata": {
        "id": "lzDLjsw5PN53"
      }
    },
    {
      "cell_type": "code",
      "source": [
        "# Classify using ResNet50-based discriminator\n",
        "resnet_labels, resnet_preds = classify_images(resnet_discriminator, test_loader, device)"
      ],
      "metadata": {
        "id": "dR36Gi8BDMLu"
      },
      "execution_count": null,
      "outputs": []
    },
    {
      "cell_type": "markdown",
      "source": [
        "## Evaluation Metrics Function\n",
        "We define a function to calculate and print Accuracy, Precision, Recall, and F1-Score for our classification results.\n"
      ],
      "metadata": {
        "id": "wJn0vx-rPRyG"
      }
    },
    {
      "cell_type": "code",
      "source": [
        "from sklearn.metrics import accuracy_score, precision_score, recall_score, f1_score\n",
        "\n",
        "# Evaluate the results (accuracy, precision, recall, etc.)\n",
        "def evaluate_classification(labels, preds):\n",
        "    accuracy = accuracy_score(labels, preds)\n",
        "    precision = precision_score(labels, preds)\n",
        "    recall = recall_score(labels, preds)\n",
        "    f1 = f1_score(labels, preds)\n",
        "    print(f'Accuracy: {accuracy:.4f}')\n",
        "    print(f'Precision: {precision:.4f}')\n",
        "    print(f'Recall: {recall:.4f}')\n",
        "    print(f'F1 Score: {f1:.4f}')\n",
        "\n"
      ],
      "metadata": {
        "id": "550TtW0KDMFI"
      },
      "execution_count": null,
      "outputs": []
    },
    {
      "cell_type": "markdown",
      "source": [
        "## Evaluate ResNet-50 Based Classification\n",
        "We run our evaluation function on the predictions from the ResNet-50 discriminator and print performance metrics.\n"
      ],
      "metadata": {
        "id": "9eSXTm5vPVDD"
      }
    },
    {
      "cell_type": "code",
      "source": [
        "# Evaluate ResNet50-based classification\n",
        "print(\"ResNet50-based classification:\")\n",
        "evaluate_classification(resnet_labels, resnet_preds)"
      ],
      "metadata": {
        "colab": {
          "base_uri": "https://localhost:8080/"
        },
        "id": "rsfwxsNkDMA9",
        "outputId": "0f8f5b5b-e7b8-49ff-db3f-51cf7bb88747"
      },
      "execution_count": null,
      "outputs": [
        {
          "output_type": "stream",
          "name": "stdout",
          "text": [
            "ResNet50-based classification:\n",
            "Accuracy: 0.9500\n",
            "Precision: 0.9091\n",
            "Recall: 1.0000\n",
            "F1 Score: 0.9524\n"
          ]
        }
      ]
    },
    {
      "cell_type": "code",
      "source": [],
      "metadata": {
        "id": "w2Km1BksDL9C"
      },
      "execution_count": null,
      "outputs": []
    },
    {
      "cell_type": "code",
      "source": [],
      "metadata": {
        "id": "V_lg_nZSIFco"
      },
      "execution_count": null,
      "outputs": []
    },
    {
      "cell_type": "markdown",
      "source": [
        "# **🧠 TL-S-CycleGAN (VGG-16 Based Discriminator)**"
      ],
      "metadata": {
        "id": "ajO7Sb59PZUN"
      }
    },
    {
      "cell_type": "markdown",
      "source": [
        "## Define Data Transformations for VGG-16\n",
        "For VGG-16, we resize images to **224x224** (required by VGG), convert to tensors, and normalize pixel values.\n"
      ],
      "metadata": {
        "id": "xnmKnWBaPeMp"
      }
    },
    {
      "cell_type": "code",
      "source": [
        "# Load Data\n",
        "#Sequence of transformations\n",
        "transform = transforms.Compose([\n",
        "    transforms.ToTensor(),\n",
        "    transforms.Resize((224, 224)),  # Resize images to 224x224 pixels\n",
        "    transforms.Normalize((0.5, 0.5, 0.5), (0.5, 0.5, 0.5))\n",
        "])"
      ],
      "metadata": {
        "id": "jYJGSGRBIFTE"
      },
      "execution_count": null,
      "outputs": []
    },
    {
      "cell_type": "markdown",
      "source": [
        "## Load Test Dataset for VGG-16\n",
        "We load and preprocess our test dataset the same way as before, but now with the resized image dimensions.\n"
      ],
      "metadata": {
        "id": "jfikuL6pPghr"
      }
    },
    {
      "cell_type": "code",
      "source": [
        "# Load dataset\n",
        "dataset_path = '/content/drive/MyDrive/my_data/test'\n",
        "dataset = datasets.ImageFolder(root=dataset_path, transform=transform)\n",
        "\n",
        "# Create DataLoader\n",
        "batch_size = 1\n",
        "test_loader = DataLoader(dataset, batch_size=batch_size, shuffle=False)\n",
        "\n",
        "# Check the dataset classes\n",
        "print(f'Classes: {dataset.classes}')\n",
        "print(f'Class to index mapping: {dataset.class_to_idx}')"
      ],
      "metadata": {
        "colab": {
          "base_uri": "https://localhost:8080/"
        },
        "id": "-cuApH5KIHd8",
        "outputId": "bc579357-4f77-486d-9781-4bafdacc472d"
      },
      "execution_count": null,
      "outputs": [
        {
          "output_type": "stream",
          "name": "stdout",
          "text": [
            "Classes: ['benign', 'malignant']\n",
            "Class to index mapping: {'benign': 0, 'malignant': 1}\n"
          ]
        }
      ]
    },
    {
      "cell_type": "markdown",
      "source": [
        "## Count Images Per Class\n",
        "We again check how many test images we have for each class to ensure proper evaluation.\n"
      ],
      "metadata": {
        "id": "E3Db2NxSPiuv"
      }
    },
    {
      "cell_type": "code",
      "source": [
        "from collections import Counter\n",
        "\n",
        "# Get the class to index mapping\n",
        "class_to_idx = dataset.class_to_idx\n",
        "print(f'Class to index mapping: {class_to_idx}')\n",
        "\n",
        "# Count the number of images per class\n",
        "class_counts = Counter([label for _, label in dataset])\n",
        "for class_name, class_index in class_to_idx.items():\n",
        "    print(f'Class {class_name} ({class_index}): {class_counts[class_index]} images')\n",
        "\n",
        "# Alternatively, you can get the counts in a dictionary\n",
        "counts = {class_name: class_counts[class_index] for class_name, class_index in class_to_idx.items()}\n",
        "print(f'Counts per class: {counts}')"
      ],
      "metadata": {
        "colab": {
          "base_uri": "https://localhost:8080/"
        },
        "id": "7jW6_Hm1UfFb",
        "outputId": "d7cb41e8-1fa8-4e20-f71a-8df88b1f5f07"
      },
      "execution_count": null,
      "outputs": [
        {
          "output_type": "stream",
          "name": "stdout",
          "text": [
            "Class to index mapping: {'benign': 0, 'malignant': 1}\n",
            "Class benign (0): 10 images\n",
            "Class malignant (1): 10 images\n",
            "Counts per class: {'benign': 10, 'malignant': 10}\n"
          ]
        }
      ]
    },
    {
      "cell_type": "markdown",
      "source": [
        "## Define Custom VGG-16 Dual Output Discriminator\n",
        "We build a custom discriminator using pre-trained VGG-16 as a feature extractor.  \n",
        "It has two classifiers:  \n",
        "- **Fake vs Real** output head  \n",
        "- **Benign vs Malignant** output head  \n",
        "The fully connected layers process extracted VGG features separately for each task.\n"
      ],
      "metadata": {
        "id": "c729fLKuPnjZ"
      }
    },
    {
      "cell_type": "code",
      "source": [
        "import torch\n",
        "import torch.nn as nn\n",
        "import torchvision.models as models\n",
        "\n",
        "class CustomDiscriminator(nn.Module):\n",
        "    def __init__(self, num_classes=2):\n",
        "        super(CustomDiscriminator, self).__init__()\n",
        "        # Load the pre-trained VGG16 model\n",
        "        vgg16 = models.vgg16(pretrained=True)\n",
        "\n",
        "        # Remove the classifier part of VGG16\n",
        "        self.features = vgg16.features\n",
        "\n",
        "        # Calculate the size of the feature map after VGG16 features\n",
        "        # Assuming input image size of (3, 224, 224)\n",
        "        self.feature_map_size = 512 * 7 * 7\n",
        "\n",
        "        # Define the classifier for fake/real\n",
        "        self.fake_real_classifier = nn.Sequential(\n",
        "            nn.Linear(self.feature_map_size, 4096),\n",
        "            nn.ReLU(True),\n",
        "            nn.Dropout(),\n",
        "            nn.Linear(4096, 4096),\n",
        "            nn.ReLU(True),\n",
        "            nn.Dropout(),\n",
        "            nn.Linear(4096, 1),  # Binary classification (fake/real)\n",
        "            nn.Sigmoid()\n",
        "        )\n",
        "\n",
        "        # Define the classifier for benign/malignant\n",
        "        self.benign_malignant_classifier = nn.Sequential(\n",
        "            nn.Linear(self.feature_map_size, 4096),\n",
        "            nn.ReLU(True),\n",
        "            nn.Dropout(),\n",
        "            nn.Linear(4096, 4096),\n",
        "            nn.ReLU(True),\n",
        "            nn.Dropout(),\n",
        "            nn.Linear(4096, num_classes)  # Multi-class classification (benign/malignant)\n",
        "        )\n",
        "\n",
        "    def forward(self, x):\n",
        "        # Extract features using VGG16\n",
        "        features = self.features(x)\n",
        "        features = features.view(features.size(0), -1)  # Flatten the feature map\n",
        "\n",
        "        # Fake/Real classification\n",
        "        fake_real_output = self.fake_real_classifier(features)\n",
        "\n",
        "        # Benign/Malignant classification\n",
        "        benign_malignant_output = self.benign_malignant_classifier(features)\n",
        "\n",
        "        return fake_real_output, benign_malignant_output\n"
      ],
      "metadata": {
        "id": "hc1vlMbXIHab"
      },
      "execution_count": null,
      "outputs": []
    },
    {
      "cell_type": "markdown",
      "source": [
        "## Load Model Utility Function\n",
        "We reuse the same function as before to load model weights and prepare the model for evaluation.\n"
      ],
      "metadata": {
        "id": "7av6pABfPq6o"
      }
    },
    {
      "cell_type": "code",
      "source": [
        "# Load the Models\n",
        "import torch\n",
        "import torch.nn as nn\n",
        "from torchvision.models import resnet50, ResNet50_Weights, vgg16, VGG16_Weights\n",
        "\n",
        "def load_model(model_class, model_path, device):\n",
        "    model = model_class().to(device)\n",
        "    model.load_state_dict(torch.load(model_path, map_location=device))\n",
        "    model.eval()  # Set to evaluation mode\n",
        "    return model"
      ],
      "metadata": {
        "id": "1Vc73IBIIHYe"
      },
      "execution_count": null,
      "outputs": []
    },
    {
      "cell_type": "markdown",
      "source": [
        "## Set Device\n",
        "We confirm again if we’re running on GPU or CPU for this section.\n"
      ],
      "metadata": {
        "id": "JkfilTXSPvrP"
      }
    },
    {
      "cell_type": "code",
      "source": [
        "device = torch.device('cuda' if torch.cuda.is_available() else 'cpu')\n",
        "device"
      ],
      "metadata": {
        "colab": {
          "base_uri": "https://localhost:8080/"
        },
        "id": "ZgR3U78dIZC-",
        "outputId": "5daf5d4f-0ce0-495b-f4bf-e2e1e50bd61e"
      },
      "execution_count": null,
      "outputs": [
        {
          "output_type": "execute_result",
          "data": {
            "text/plain": [
              "device(type='cpu')"
            ]
          },
          "metadata": {},
          "execution_count": 21
        }
      ]
    },
    {
      "cell_type": "markdown",
      "source": [
        "## Model Path (VGG-16 Discriminator)\n",
        "We set the path to the saved VGG-16 discriminator weights in Google Drive.\n"
      ],
      "metadata": {
        "id": "NhAESS2gPyHD"
      }
    },
    {
      "cell_type": "code",
      "source": [
        "vgg_discriminator_path = '/content/drive/MyDrive/My Research Work/Trained_Models/vgg_16_CycleGAN_Models/netD_A_epoch_24.pth'"
      ],
      "metadata": {
        "id": "ax027PL-IY6l"
      },
      "execution_count": null,
      "outputs": []
    },
    {
      "cell_type": "markdown",
      "source": [
        "## Load VGG-16 Based Discriminator\n",
        "We load the trained VGG-16 discriminator into memory.\n"
      ],
      "metadata": {
        "id": "3w2WMjeyP1lb"
      }
    },
    {
      "cell_type": "code",
      "source": [
        "vgg_discriminator = load_model(CustomDiscriminator, vgg_discriminator_path, device)"
      ],
      "metadata": {
        "colab": {
          "base_uri": "https://localhost:8080/"
        },
        "id": "3CtGgZYOIk_7",
        "outputId": "dfd2136b-72fd-450f-826b-a79c3220cbf3"
      },
      "execution_count": null,
      "outputs": [
        {
          "output_type": "stream",
          "name": "stderr",
          "text": [
            "/usr/local/lib/python3.10/dist-packages/torchvision/models/_utils.py:208: UserWarning: The parameter 'pretrained' is deprecated since 0.13 and may be removed in the future, please use 'weights' instead.\n",
            "  warnings.warn(\n",
            "/usr/local/lib/python3.10/dist-packages/torchvision/models/_utils.py:223: UserWarning: Arguments other than a weight enum or `None` for 'weights' are deprecated since 0.13 and may be removed in the future. The current behavior is equivalent to passing `weights=VGG16_Weights.IMAGENET1K_V1`. You can also use `weights=VGG16_Weights.DEFAULT` to get the most up-to-date weights.\n",
            "  warnings.warn(msg)\n"
          ]
        }
      ]
    },
    {
      "cell_type": "markdown",
      "source": [
        "## Image Classification Function for VGG-16\n",
        "We reuse the classification function to run inference and collect predicted and actual labels for evaluation.\n"
      ],
      "metadata": {
        "id": "Is2_i2vVP4Zb"
      }
    },
    {
      "cell_type": "code",
      "source": [
        "# Function to classify images\n",
        "def classify_images(discriminator, dataloader, device):\n",
        "    discriminator.eval()  # Ensure the model is in evaluation mode\n",
        "    all_labels = []\n",
        "    all_preds = []\n",
        "\n",
        "    with torch.no_grad():\n",
        "        for data in dataloader:\n",
        "            images, labels = data\n",
        "            images = images.to(device)\n",
        "            labels = labels.to(device)\n",
        "\n",
        "            # Get the discriminator output\n",
        "            real_fake_output, class_output = discriminator(images)\n",
        "            preds = class_output.argmax(dim=1)  # Get the predicted class\n",
        "\n",
        "            all_labels.extend(labels.cpu().numpy())\n",
        "            all_preds.extend(preds.cpu().numpy())\n",
        "\n",
        "    return all_labels, all_preds"
      ],
      "metadata": {
        "id": "PjyR4pZJIk8t"
      },
      "execution_count": null,
      "outputs": []
    },
    {
      "cell_type": "markdown",
      "source": [
        "## Classify Test Images with VGG-16 Discriminator\n",
        "We run the trained VGG-16 discriminator on the test dataset.\n"
      ],
      "metadata": {
        "id": "9Wd_W6yzP7l0"
      }
    },
    {
      "cell_type": "code",
      "source": [
        "# Classify using VGG16-based discriminator\n",
        "vgg_labels, vgg_preds = classify_images(vgg_discriminator, test_loader, device)"
      ],
      "metadata": {
        "id": "GO3dhenQIk6p"
      },
      "execution_count": null,
      "outputs": []
    },
    {
      "cell_type": "markdown",
      "source": [
        "## Evaluation Metrics Function\n",
        "We use the same evaluation function to compute performance metrics.\n"
      ],
      "metadata": {
        "id": "D6q95Z0LP-Do"
      }
    },
    {
      "cell_type": "code",
      "source": [
        "from sklearn.metrics import accuracy_score, precision_score, recall_score, f1_score\n",
        "\n",
        "# Evaluate the results (accuracy, precision, recall, etc.)\n",
        "def evaluate_classification(labels, preds):\n",
        "    accuracy = accuracy_score(labels, preds)\n",
        "    precision = precision_score(labels, preds)\n",
        "    recall = recall_score(labels, preds)\n",
        "    f1 = f1_score(labels, preds)\n",
        "    print(f'Accuracy: {accuracy:.4f}')\n",
        "    print(f'Precision: {precision:.4f}')\n",
        "    print(f'Recall: {recall:.4f}')\n",
        "    print(f'F1 Score: {f1:.4f}')\n",
        "\n"
      ],
      "metadata": {
        "id": "aTAAnNSaL2Ly"
      },
      "execution_count": null,
      "outputs": []
    },
    {
      "cell_type": "markdown",
      "source": [
        "## Evaluate VGG-16 Based Classification\n",
        "We print accuracy, precision, recall, and F1-score for the VGG-16 discriminator’s predictions.\n"
      ],
      "metadata": {
        "id": "BrT6MPfaQGwI"
      }
    },
    {
      "cell_type": "code",
      "source": [
        "# Evaluate VGG16-based classification\n",
        "print(\"VGG16-based classification:\")\n",
        "evaluate_classification(vgg_labels, vgg_preds)"
      ],
      "metadata": {
        "colab": {
          "base_uri": "https://localhost:8080/"
        },
        "id": "UXkGrpDiL2DY",
        "outputId": "23e2762c-2dac-4e82-eb91-8a7924902e32"
      },
      "execution_count": null,
      "outputs": [
        {
          "output_type": "stream",
          "name": "stdout",
          "text": [
            "VGG16-based classification:\n",
            "Accuracy: 0.5000\n",
            "Precision: 0.5000\n",
            "Recall: 1.0000\n",
            "F1 Score: 0.6667\n"
          ]
        }
      ]
    },
    {
      "cell_type": "code",
      "source": [],
      "metadata": {
        "id": "O__UWI7lMRYK"
      },
      "execution_count": null,
      "outputs": []
    },
    {
      "cell_type": "code",
      "source": [],
      "metadata": {
        "id": "4sk5uODVMRHb"
      },
      "execution_count": null,
      "outputs": []
    },
    {
      "cell_type": "markdown",
      "source": [
        "# **🧠 CycleGAN (Simple PatchGAN Discriminator)**"
      ],
      "metadata": {
        "id": "k5lU5lhNQJop"
      }
    },
    {
      "cell_type": "markdown",
      "source": [
        "## Define Data Transformations\n",
        "We prepare the test images for the simple CycleGAN model by converting them to tensors and normalizing values to [-1, 1].\n"
      ],
      "metadata": {
        "id": "a-Fg8py4QOuT"
      }
    },
    {
      "cell_type": "code",
      "source": [
        "#Sequence of transformations\n",
        "transform = transforms.Compose([\n",
        "    transforms.ToTensor(),\n",
        "    transforms.Normalize((0.5, 0.5, 0.5), (0.5, 0.5, 0.5))\n",
        "])"
      ],
      "metadata": {
        "id": "uZV0OhF3MQ-J"
      },
      "execution_count": null,
      "outputs": []
    },
    {
      "cell_type": "markdown",
      "source": [
        "## Load Test Dataset\n",
        "We load the test set with our defined transformations and create a DataLoader for evaluation.\n"
      ],
      "metadata": {
        "id": "NzjZSwGFQQ9e"
      }
    },
    {
      "cell_type": "code",
      "source": [
        "# Load dataset\n",
        "dataset_path = '/content/drive/MyDrive/my_data/test'\n",
        "dataset = datasets.ImageFolder(root=dataset_path, transform=transform)\n",
        "\n",
        "# Create DataLoader\n",
        "batch_size = 1\n",
        "test_loader = DataLoader(dataset, batch_size=batch_size, shuffle=False)\n",
        "\n",
        "# Check the dataset classes\n",
        "print(f'Classes: {dataset.classes}')\n",
        "print(f'Class to index mapping: {dataset.class_to_idx}')"
      ],
      "metadata": {
        "colab": {
          "base_uri": "https://localhost:8080/"
        },
        "id": "Z-5b69vjRpuE",
        "outputId": "487c6fd7-064a-47af-de26-9bc27ae21526"
      },
      "execution_count": null,
      "outputs": [
        {
          "output_type": "stream",
          "name": "stdout",
          "text": [
            "Classes: ['benign', 'malignant']\n",
            "Class to index mapping: {'benign': 0, 'malignant': 1}\n"
          ]
        }
      ]
    },
    {
      "cell_type": "markdown",
      "source": [
        "## Input Channels\n",
        "We set the number of image channels (`input_nc = 3`) for RGB images.\n"
      ],
      "metadata": {
        "id": "KPv5ItdAQUEu"
      }
    },
    {
      "cell_type": "code",
      "source": [
        "input_nc = 3"
      ],
      "metadata": {
        "id": "VIHGjWoVSq1L"
      },
      "execution_count": null,
      "outputs": []
    },
    {
      "cell_type": "markdown",
      "source": [
        "## Define Simple PatchGAN Discriminator\n",
        "We build a convolutional discriminator architecture for the basic CycleGAN.  \n",
        "It downsamples the image progressively and outputs a **real/fake score map**.\n"
      ],
      "metadata": {
        "id": "wMG1gB6kQWUn"
      }
    },
    {
      "cell_type": "code",
      "source": [
        "class Discriminator(nn.Module):\n",
        "    def __init__(self, input_nc = 3):\n",
        "        super(Discriminator, self).__init__()\n",
        "\n",
        "        model = [nn.Conv2d(input_nc, 64, 4, stride=2, padding=1),\n",
        "                 nn.LeakyReLU(0.2, inplace=True)]\n",
        "\n",
        "        model += [nn.Conv2d(64, 128, 4, stride=2, padding=1),\n",
        "                  nn.InstanceNorm2d(128),\n",
        "                  nn.LeakyReLU(0.2, inplace=True)]\n",
        "\n",
        "        model += [nn.Conv2d(128, 256, 4, stride=2, padding=1),\n",
        "                  nn.InstanceNorm2d(256),\n",
        "                  nn.LeakyReLU(0.2, inplace=True)]\n",
        "\n",
        "        model += [nn.Conv2d(256, 512, 4, padding=1),\n",
        "                  nn.InstanceNorm2d(512),\n",
        "                  nn.LeakyReLU(0.2, inplace=True)]\n",
        "\n",
        "        # Output layer\n",
        "        model += [nn.Conv2d(512, 1, 4, padding=1)]\n",
        "\n",
        "        self.model = nn.Sequential(*model)\n",
        "\n",
        "    def forward(self, x):\n",
        "        return self.model(x)"
      ],
      "metadata": {
        "id": "iJqw1gaERpoO"
      },
      "execution_count": null,
      "outputs": []
    },
    {
      "cell_type": "markdown",
      "source": [
        "## Load Model Utility Function\n",
        "We reuse our helper function to load a model’s weights and prepare it for evaluation.\n"
      ],
      "metadata": {
        "id": "_wgPPberQYkd"
      }
    },
    {
      "cell_type": "code",
      "source": [
        "# Load the Models\n",
        "import torch\n",
        "import torch.nn as nn\n",
        "from torchvision.models import resnet50, ResNet50_Weights, vgg16, VGG16_Weights\n",
        "\n",
        "def load_model(model_class, model_path, device):\n",
        "    model = model_class().to(device)\n",
        "    model.load_state_dict(torch.load(model_path, map_location=device))\n",
        "    model.eval()  # Set to evaluation mode\n",
        "    return model"
      ],
      "metadata": {
        "id": "dM0GBwp3RyU3"
      },
      "execution_count": null,
      "outputs": []
    },
    {
      "cell_type": "markdown",
      "source": [
        "## Set Device\n",
        "We again check for CUDA availability for inference.\n"
      ],
      "metadata": {
        "id": "NUKVlVovQe9h"
      }
    },
    {
      "cell_type": "code",
      "source": [
        "device = torch.device('cuda' if torch.cuda.is_available() else 'cpu')\n",
        "device"
      ],
      "metadata": {
        "colab": {
          "base_uri": "https://localhost:8080/"
        },
        "id": "lUJ-dJB6RyRk",
        "outputId": "a466f83d-4505-4400-82a8-9ad0bbe0e52c"
      },
      "execution_count": null,
      "outputs": [
        {
          "output_type": "execute_result",
          "data": {
            "text/plain": [
              "device(type='cpu')"
            ]
          },
          "metadata": {},
          "execution_count": 10
        }
      ]
    },
    {
      "cell_type": "markdown",
      "source": [
        "## Model Path (Simple CycleGAN Discriminator)\n",
        "We provide the path to the trained CycleGAN discriminator weights.\n"
      ],
      "metadata": {
        "id": "ltNOr4QAQcT8"
      }
    },
    {
      "cell_type": "code",
      "source": [
        "# Load the model\n",
        "discriminator_path = '/content/drive/MyDrive/My Research Work/Trained_Models/CycleGAN_Models/netD_B_epoch_24.pth'"
      ],
      "metadata": {
        "id": "AS7px3oASFEH"
      },
      "execution_count": null,
      "outputs": []
    },
    {
      "cell_type": "markdown",
      "source": [
        "## Load Simple CycleGAN Discriminator\n",
        "We load our basic discriminator for inference.\n"
      ],
      "metadata": {
        "id": "iZHDt7JrQh7K"
      }
    },
    {
      "cell_type": "code",
      "source": [
        "discriminator = load_model(Discriminator, discriminator_path, device)"
      ],
      "metadata": {
        "id": "BaLLhW9tSFA4"
      },
      "execution_count": null,
      "outputs": []
    },
    {
      "cell_type": "markdown",
      "source": [
        "## Image Classification Function for PatchGAN\n",
        "We define a function to classify test images by averaging the output map from the discriminator and applying a threshold for binary classification.\n"
      ],
      "metadata": {
        "id": "eLaW3Ri0QkuG"
      }
    },
    {
      "cell_type": "code",
      "source": [
        "# Function to classify images\n",
        "def classify_images(discriminator, dataloader, device, threshold=0.5):\n",
        "    discriminator.eval()  # Ensure the model is in evaluation mode\n",
        "    all_labels = []\n",
        "    all_preds = []\n",
        "\n",
        "    with torch.no_grad():\n",
        "        for data in dataloader:\n",
        "            images, labels = data\n",
        "            images = images.to(device)\n",
        "            labels = labels.to(device)\n",
        "\n",
        "            # Get the discriminator output\n",
        "            output = discriminator(images)\n",
        "            outputs = output.view(output.size(0), -1).mean(1)  # Get average output for the batch\n",
        "            preds = (outputs > threshold).float()  # Apply threshold to get binary predictions\n",
        "            #preds = class_output.argmax(dim=1)\n",
        "\n",
        "            all_labels.extend(labels.cpu().numpy())\n",
        "            all_preds.extend(preds.cpu().numpy())\n",
        "\n",
        "    return all_labels, all_preds"
      ],
      "metadata": {
        "id": "oSIxzNeRRyPS"
      },
      "execution_count": null,
      "outputs": []
    },
    {
      "cell_type": "markdown",
      "source": [
        "## Classify Test Images\n",
        "We run the discriminator on the test set and store predictions.\n"
      ],
      "metadata": {
        "id": "MMIniDBfQqEL"
      }
    },
    {
      "cell_type": "code",
      "source": [
        " #Classify using the discriminator\n",
        "labels, preds = classify_images(discriminator, test_loader, device)"
      ],
      "metadata": {
        "id": "Hmv3raYKS9mB"
      },
      "execution_count": null,
      "outputs": []
    },
    {
      "cell_type": "markdown",
      "source": [
        "## Evaluation Metrics Function\n",
        "We define a metrics function (slightly renamed) to print accuracy, precision, recall, and F1-score for the simple CycleGAN.\n"
      ],
      "metadata": {
        "id": "1ZSAcDghQstl"
      }
    },
    {
      "cell_type": "code",
      "source": [
        "from sklearn.metrics import accuracy_score, precision_score, recall_score, f1_score\n",
        "# Evaluate the results (accuracy, precision, recall, etc.)\n",
        "def s_evaluate_classification(labels, preds):\n",
        "    accuracy = accuracy_score(labels, preds)\n",
        "    precision = precision_score(labels, preds)\n",
        "    recall = recall_score(labels, preds)\n",
        "    f1 = f1_score(labels, preds)\n",
        "    print(f'Accuracy: {accuracy:.4f}')\n",
        "    print(f'Precision: {precision:.4f}')\n",
        "    print(f'Recall: {recall:.4f}')\n",
        "    print(f'F1 Score: {f1:.4f}')"
      ],
      "metadata": {
        "id": "NKrU0xWTTLhN"
      },
      "execution_count": null,
      "outputs": []
    },
    {
      "cell_type": "markdown",
      "source": [
        "## 📊 Evaluate Simple CycleGAN Classification\n",
        "We evaluate the **simple CycleGAN discriminator** using our custom `s_evaluate_classification()` function.  \n",
        "This prints the **Accuracy, Precision, Recall, and F1-score** for the simple model’s classification performance.\n"
      ],
      "metadata": {
        "id": "hzdvwjz-RVPk"
      }
    },
    {
      "cell_type": "code",
      "source": [
        "# Evaluate VGG16-based classification\n",
        "print(\"simple-based classification:\")\n",
        "s_evaluate_classification(labels, preds)"
      ],
      "metadata": {
        "colab": {
          "base_uri": "https://localhost:8080/"
        },
        "id": "RYq2nnTKTLQ4",
        "outputId": "a8b7a02f-505c-44fc-8fc2-70673add9584"
      },
      "execution_count": null,
      "outputs": [
        {
          "output_type": "stream",
          "name": "stdout",
          "text": [
            "simple-based classification:\n",
            "Accuracy: 0.7000\n",
            "Precision: 1.0000\n",
            "Recall: 0.4000\n",
            "F1 Score: 0.5714\n"
          ]
        }
      ]
    },
    {
      "cell_type": "code",
      "source": [],
      "metadata": {
        "id": "2AS1DIJdTMBa"
      },
      "execution_count": null,
      "outputs": []
    },
    {
      "cell_type": "markdown",
      "source": [
        "## 📈 Compare Model Performance (Matplotlib)\n",
        "We create a grouped **bar chart** comparing the performance metrics —  \n",
        "**Accuracy, Precision, Recall, and F1 Score** — for three models:  \n",
        "- VGG16-based CycleGAN  \n",
        "- ResNet50-based CycleGAN  \n",
        "- Simple CycleGAN  \n",
        "\n",
        "The chart uses **Matplotlib** with side-by-side bars for visual comparison.\n"
      ],
      "metadata": {
        "id": "Z-jWf0FvRWl9"
      }
    },
    {
      "cell_type": "code",
      "source": [
        "import matplotlib.pyplot as plt\n",
        "import numpy as np\n",
        "\n",
        "# Metrics for each model\n",
        "metrics = ['Accuracy', 'Precision', 'Recall', 'F1 Score']\n",
        "vgg16_metrics = [0.5000, 0.5000, 1.0000, 0.6667]\n",
        "resnet50_metrics = [0.9500, 0.9036, 1.0, 0.95]\n",
        "simple_metrics = [0.70, 1.0, 0.400, 0.57]\n",
        "\n",
        "# Combine metrics into a list\n",
        "all_metrics = [vgg16_metrics, resnet50_metrics, simple_metrics]\n",
        "\n",
        "# Model names\n",
        "model_names = ['VGG16', 'ResNet50', 'Simple']\n",
        "\n",
        "# Number of metrics\n",
        "n_metrics = len(metrics)\n",
        "\n",
        "# Number of models\n",
        "n_models = len(model_names)\n",
        "\n",
        "# Positions of the bars on the x-axis\n",
        "ind = np.arange(n_metrics)\n",
        "\n",
        "# Width of a bar\n",
        "width = 0.2\n",
        "\n",
        "# Plotting\n",
        "fig, ax = plt.subplots(figsize=(10, 6))\n",
        "\n",
        "# Add bars for each model\n",
        "for i in range(n_models):\n",
        "    ax.bar(ind + i * width, all_metrics[i], width, label=model_names[i])\n",
        "\n",
        "# Add some text for labels, title, and custom x-axis tick labels, etc.\n",
        "ax.set_xlabel('Metrics')\n",
        "ax.set_ylabel('Scores')\n",
        "ax.set_title('Performance Metrics of Different Models')\n",
        "ax.set_xticks(ind + width / n_models)\n",
        "ax.set_xticklabels(metrics)\n",
        "ax.legend()\n",
        "\n",
        "# Display the plot\n",
        "plt.show()\n"
      ],
      "metadata": {
        "colab": {
          "base_uri": "https://localhost:8080/",
          "height": 564
        },
        "id": "8-_KxTjmYse-",
        "outputId": "c14007af-7988-44d7-e2bc-19e78a75c38c"
      },
      "execution_count": null,
      "outputs": [
        {
          "output_type": "display_data",
          "data": {
            "text/plain": [
              "<Figure size 1000x600 with 1 Axes>"
            ],
            "image/png": "[encoded data removed]"
          },
          "metadata": {}
        }
      ]
    },
    {
      "cell_type": "code",
      "source": [],
      "metadata": {
        "id": "oAV54sPfJsra"
      },
      "execution_count": null,
      "outputs": []
    },
    {
      "cell_type": "markdown",
      "source": [
        "## 📦 Install Visualization Libraries\n",
        "We install `seaborn` for aesthetically pleasing statistical plots  \n",
        "and `mplcursors` for **interactive hover tooltips** in Matplotlib visualizations.\n"
      ],
      "metadata": {
        "id": "GsC_n4DcRZ_k"
      }
    },
    {
      "cell_type": "code",
      "source": [
        "pip install seaborn mplcursors\n"
      ],
      "metadata": {
        "colab": {
          "base_uri": "https://localhost:8080/"
        },
        "id": "7AL_jM1BJsfN",
        "outputId": "c46bb27f-3bd1-480b-da29-e868de951983"
      },
      "execution_count": null,
      "outputs": [
        {
          "output_type": "stream",
          "name": "stdout",
          "text": [
            "Requirement already satisfied: seaborn in /usr/local/lib/python3.10/dist-packages (0.13.1)\n",
            "Collecting mplcursors\n",
            "  Downloading mplcursors-0.5.3.tar.gz (88 kB)\n",
            "\u001b[2K     \u001b[90m━━━━━━━━━━━━━━━━━━━━━━━━━━━━━━━━━━━━━━━━\u001b[0m \u001b[32m88.8/88.8 kB\u001b[0m \u001b[31m1.2 MB/s\u001b[0m eta \u001b[36m0:00:00\u001b[0m\n",
            "\u001b[?25h  Installing build dependencies ... \u001b[?25l\u001b[?25hdone\n",
            "  Getting requirements to build wheel ... \u001b[?25l\u001b[?25hdone\n",
            "  Preparing metadata (pyproject.toml) ... \u001b[?25l\u001b[?25hdone\n",
            "Requirement already satisfied: numpy!=1.24.0,>=1.20 in /usr/local/lib/python3.10/dist-packages (from seaborn) (1.25.2)\n",
            "Requirement already satisfied: pandas>=1.2 in /usr/local/lib/python3.10/dist-packages (from seaborn) (2.0.3)\n",
            "Requirement already satisfied: matplotlib!=3.6.1,>=3.4 in /usr/local/lib/python3.10/dist-packages (from seaborn) (3.7.1)\n",
            "Collecting matplotlib!=3.6.1,>=3.4 (from seaborn)\n",
            "  Downloading matplotlib-3.9.1-cp310-cp310-manylinux_2_17_x86_64.manylinux2014_x86_64.whl (8.3 MB)\n",
            "\u001b[2K     \u001b[90m━━━━━━━━━━━━━━━━━━━━━━━━━━━━━━━━━━━━━━━━\u001b[0m \u001b[32m8.3/8.3 MB\u001b[0m \u001b[31m21.0 MB/s\u001b[0m eta \u001b[36m0:00:00\u001b[0m\n",
            "\u001b[?25hRequirement already satisfied: contourpy>=1.0.1 in /usr/local/lib/python3.10/dist-packages (from matplotlib!=3.6.1,>=3.4->seaborn) (1.2.1)\n",
            "Requirement already satisfied: cycler>=0.10 in /usr/local/lib/python3.10/dist-packages (from matplotlib!=3.6.1,>=3.4->seaborn) (0.12.1)\n",
            "Requirement already satisfied: fonttools>=4.22.0 in /usr/local/lib/python3.10/dist-packages (from matplotlib!=3.6.1,>=3.4->seaborn) (4.53.1)\n",
            "Requirement already satisfied: kiwisolver>=1.3.1 in /usr/local/lib/python3.10/dist-packages (from matplotlib!=3.6.1,>=3.4->seaborn) (1.4.5)\n",
            "Requirement already satisfied: packaging>=20.0 in /usr/local/lib/python3.10/dist-packages (from matplotlib!=3.6.1,>=3.4->seaborn) (24.1)\n",
            "Requirement already satisfied: pillow>=8 in /usr/local/lib/python3.10/dist-packages (from matplotlib!=3.6.1,>=3.4->seaborn) (9.4.0)\n",
            "Requirement already satisfied: pyparsing>=2.3.1 in /usr/local/lib/python3.10/dist-packages (from matplotlib!=3.6.1,>=3.4->seaborn) (3.1.2)\n",
            "Requirement already satisfied: python-dateutil>=2.7 in /usr/local/lib/python3.10/dist-packages (from matplotlib!=3.6.1,>=3.4->seaborn) (2.8.2)\n",
            "Requirement already satisfied: pytz>=2020.1 in /usr/local/lib/python3.10/dist-packages (from pandas>=1.2->seaborn) (2023.4)\n",
            "Requirement already satisfied: tzdata>=2022.1 in /usr/local/lib/python3.10/dist-packages (from pandas>=1.2->seaborn) (2024.1)\n",
            "Requirement already satisfied: six>=1.5 in /usr/local/lib/python3.10/dist-packages (from python-dateutil>=2.7->matplotlib!=3.6.1,>=3.4->seaborn) (1.16.0)\n",
            "Building wheels for collected packages: mplcursors\n",
            "  Building wheel for mplcursors (pyproject.toml) ... \u001b[?25l\u001b[?25hdone\n",
            "  Created wheel for mplcursors: filename=mplcursors-0.5.3-py3-none-any.whl size=20728 sha256=196c7d4ff60edbf7e8bee4bfa1dd6f9dcc844bb94909393635d0824376223099\n",
            "  Stored in directory: /root/.cache/pip/wheels/83/43/92/44f9515471f56877c774a515a2902d3e5484ea1bc7fd412d03\n",
            "Successfully built mplcursors\n",
            "Installing collected packages: matplotlib, mplcursors\n",
            "  Attempting uninstall: matplotlib\n",
            "    Found existing installation: matplotlib 3.7.1\n",
            "    Uninstalling matplotlib-3.7.1:\n",
            "      Successfully uninstalled matplotlib-3.7.1\n",
            "Successfully installed matplotlib-3.9.1 mplcursors-0.5.3\n"
          ]
        }
      ]
    },
    {
      "cell_type": "markdown",
      "source": [
        "## 🎨 Compare Model Performance (Seaborn + Interactive)\n",
        "We enhance the previous performance comparison plot with:\n",
        "- **Seaborn styling** for a cleaner look  \n",
        "- **Custom colors** from the Husl palette  \n",
        "- **Value annotations** above each bar  \n",
        "- **Interactive hover tooltips** via `mplcursors`  \n",
        "\n",
        "This allows both a polished presentation and interactive exploration of the scores.\n"
      ],
      "metadata": {
        "id": "K7iR6ReoReEy"
      }
    },
    {
      "cell_type": "code",
      "source": [
        "import matplotlib.pyplot as plt\n",
        "import numpy as np\n",
        "import seaborn as sns\n",
        "import mplcursors\n",
        "\n",
        "# Metrics for each model\n",
        "metrics = ['Accuracy', 'Precision', 'Recall', 'F1 Score']\n",
        "vgg16_metrics = [0.5000, 0.5000, 1.0000, 0.6667]\n",
        "resnet50_metrics = [0.9500, 0.9036, 1.0, 0.95]\n",
        "simple_metrics = [0.70, 1.0, 0.400, 0.57]\n",
        "\n",
        "# Combine metrics into a list\n",
        "all_metrics = [vgg16_metrics, resnet50_metrics, simple_metrics]\n",
        "\n",
        "# Model names\n",
        "model_names = ['VGG16', 'ResNet50', 'Simple']\n",
        "\n",
        "# Number of metrics\n",
        "n_metrics = len(metrics)\n",
        "\n",
        "# Number of models\n",
        "n_models = len(model_names)\n",
        "\n",
        "# Positions of the bars on the x-axis\n",
        "ind = np.arange(n_metrics)\n",
        "\n",
        "# Width of a bar\n",
        "width = 0.2\n",
        "\n",
        "# Set the style\n",
        "sns.set(style=\"whitegrid\")\n",
        "\n",
        "# Plotting\n",
        "fig, ax = plt.subplots(figsize=(7, 5))\n",
        "\n",
        "# Add bars for each model\n",
        "colors = sns.color_palette(\"husl\", n_models)  # Using Husl color palette from Seaborn\n",
        "for i in range(n_models):\n",
        "    ax.bar(ind + i * width, all_metrics[i], width, label=model_names[i], color=colors[i])\n",
        "\n",
        "# Add some text for labels, title, and custom x-axis tick labels, etc.\n",
        "ax.set_xlabel('Metrics', fontsize=14)\n",
        "ax.set_ylabel('Scores', fontsize=14)\n",
        "ax.set_title('Performance Metrics of Different Models', fontsize=16)\n",
        "ax.set_xticks(ind + width)\n",
        "ax.set_xticklabels(metrics, fontsize=12)\n",
        "ax.legend(title='Models', fontsize=12)\n",
        "\n",
        "# Add value annotations on top of bars\n",
        "for i in range(n_models):\n",
        "    for j in range(n_metrics):\n",
        "        ax.text(ind[j] + i * width, all_metrics[i][j] + 0.02, f'{all_metrics[i][j]:.2f}', ha='center', va='bottom', fontsize=10)\n",
        "\n",
        "# Add interactivity using mplcursors\n",
        "mplcursors.cursor(hover=True)\n",
        "\n",
        "# Display the plot\n",
        "plt.show()\n"
      ],
      "metadata": {
        "colab": {
          "base_uri": "https://localhost:8080/",
          "height": 502
        },
        "id": "R12fv63CJtey",
        "outputId": "76708c41-dbbe-4ed4-827e-001c18278d03"
      },
      "execution_count": null,
      "outputs": [
        {
          "output_type": "display_data",
          "data": {
            "text/plain": [
              "<Figure size 700x500 with 1 Axes>"
            ],
            "image/png": "[encoded data removed]"
          },
          "metadata": {}
        }
      ]
    },
    {
      "cell_type": "code",
      "source": [],
      "metadata": {
        "id": "tMbnU85NJ2Ql"
      },
      "execution_count": null,
      "outputs": []
    },
    {
      "cell_type": "markdown",
      "source": [
        "## 📊 FCN Segmentation Metrics Comparison (Plotly)\n",
        "We compare **Fully Convolutional Network (FCN)** segmentation metrics for the three CycleGAN variants:\n",
        "- **Average IoU** (Intersection over Union)  \n",
        "- **Average Per Pixel Accuracy**  \n",
        "- **Average Per Class Accuracy**  \n",
        "\n",
        "The plot is created using **Plotly** for interactivity, with grouped bars and hover tooltips to inspect each model’s score.\n"
      ],
      "metadata": {
        "id": "cU5xZhtURhai"
      }
    },
    {
      "cell_type": "code",
      "source": [
        "import plotly.graph_objects as go\n",
        "\n",
        "# Define the metrics and the corresponding values for each model\n",
        "metrics = ['Average IoU', 'Average Per Pixel Accuracy', 'Average Per Class Accuracy']\n",
        "simple_metrics = [0.3091, 0.9426, 0.4653]\n",
        "vgg16_metrics = [0.6787, 0.9547, 0.8374]\n",
        "resnet50_metrics = [0.2603, 0.8962, 0.4578]\n",
        "\n",
        "# Create traces for each model\n",
        "trace1 = go.Bar(\n",
        "    x=metrics,\n",
        "    y=simple_metrics,\n",
        "    name='Simple CycleGAN',\n",
        "    marker=dict(color='rgba(55, 83, 109, 0.7)')\n",
        ")\n",
        "trace2 = go.Bar(\n",
        "    x=metrics,\n",
        "    y=vgg16_metrics,\n",
        "    name='VGG16 CycleGAN',\n",
        "    marker=dict(color='rgba(26, 118, 255, 0.7)')\n",
        ")\n",
        "trace3 = go.Bar(\n",
        "    x=metrics,\n",
        "    y=resnet50_metrics,\n",
        "    name='ResNet50 CycleGAN',\n",
        "    marker=dict(color='rgba(50, 171, 96, 0.7)')\n",
        ")\n",
        "\n",
        "# Combine the traces into a single figure\n",
        "data = [trace1, trace2, trace3]\n",
        "\n",
        "# Define the layout of the plot\n",
        "layout = go.Layout(\n",
        "    title='FCN Metrics of Different CycleGAN Models',\n",
        "    xaxis=dict(title='Metrics'),\n",
        "    yaxis=dict(title='Scores'),\n",
        "    barmode='group',\n",
        "    plot_bgcolor='rgba(245, 245, 245, 1)',\n",
        "    paper_bgcolor='rgba(245, 245, 245, 1)',\n",
        "    hovermode='x'\n",
        ")\n",
        "\n",
        "# Create the figure and plot it\n",
        "fig = go.Figure(data=data, layout=layout)\n",
        "fig.show()\n"
      ],
      "metadata": {
        "colab": {
          "base_uri": "https://localhost:8080/",
          "height": 542
        },
        "id": "wPzykRpgJ2Lp",
        "outputId": "4ded99e5-e258-4bfc-ac7a-43bfb0fe124b"
      },
      "execution_count": null,
      "outputs": [
        {
          "output_type": "display_data",
          "data": {
            "text/html": [
              "<html>\n",
              "<head><meta charset=\"utf-8\" /></head>\n",
              "<body>\n",
              "    <div>            <script src=\"https://cdnjs.cloudflare.com/ajax/libs/mathjax/2.7.5/MathJax.js?config=TeX-AMS-MML_SVG\"></script><script type=\"text/javascript\">if (window.MathJax && window.MathJax.Hub && window.MathJax.Hub.Config) {window.MathJax.Hub.Config({SVG: {font: \"STIX-Web\"}});}</script>                <script type=\"text/javascript\">window.PlotlyConfig = {MathJaxConfig: 'local'};</script>\n",
              "        <script charset=\"utf-8\" src=\"https://cdn.plot.ly/plotly-2.24.1.min.js\"></script>                <div id=\"80f46769-0014-4d53-85c6-84c2303e2cd7\" class=\"plotly-graph-div\" style=\"height:525px; width:100%;\"></div>            <script type=\"text/javascript\">                                    window.PLOTLYENV=window.PLOTLYENV || {};                                    if (document.getElementById(\"80f46769-0014-4d53-85c6-84c2303e2cd7\")) {                    Plotly.newPlot(                        \"80f46769-0014-4d53-85c6-84c2303e2cd7\",                        [{\"marker\":{\"color\":\"rgba(55, 83, 109, 0.7)\"},\"name\":\"Simple CycleGAN\",\"x\":[\"Average IoU\",\"Average Per Pixel Accuracy\",\"Average Per Class Accuracy\"],\"y\":[0.3091,0.9426,0.4653],\"type\":\"bar\"},{\"marker\":{\"color\":\"rgba(26, 118, 255, 0.7)\"},\"name\":\"VGG16 CycleGAN\",\"x\":[\"Average IoU\",\"Average Per Pixel Accuracy\",\"Average Per Class Accuracy\"],\"y\":[0.6787,0.9547,0.8374],\"type\":\"bar\"},{\"marker\":{\"color\":\"rgba(50, 171, 96, 0.7)\"},\"name\":\"ResNet50 CycleGAN\",\"x\":[\"Average IoU\",\"Average Per Pixel Accuracy\",\"Average Per Class Accuracy\"],\"y\":[0.2603,0.8962,0.4578],\"type\":\"bar\"}],                        {\"barmode\":\"group\",\"hovermode\":\"x\",\"paper_bgcolor\":\"rgba(245, 245, 245, 1)\",\"plot_bgcolor\":\"rgba(245, 245, 245, 1)\",\"title\":{\"text\":\"FCN Metrics of Different CycleGAN Models\"},\"xaxis\":{\"title\":{\"text\":\"Metrics\"}},\"yaxis\":{\"title\":{\"text\":\"Scores\"}},\"template\":{\"data\":{\"histogram2dcontour\":[{\"type\":\"histogram2dcontour\",\"colorbar\":{\"outlinewidth\":0,\"ticks\":\"\"},\"colorscale\":[[0.0,\"#0d0887\"],[0.1111111111111111,\"#46039f\"],[0.2222222222222222,\"#7201a8\"],[0.3333333333333333,\"#9c179e\"],[0.4444444444444444,\"#bd3786\"],[0.5555555555555556,\"#d8576b\"],[0.6666666666666666,\"#ed7953\"],[0.7777777777777778,\"#fb9f3a\"],[0.8888888888888888,\"#fdca26\"],[1.0,\"#f0f921\"]]}],\"choropleth\":[{\"type\":\"choropleth\",\"colorbar\":{\"outlinewidth\":0,\"ticks\":\"\"}}],\"histogram2d\":[{\"type\":\"histogram2d\",\"colorbar\":{\"outlinewidth\":0,\"ticks\":\"\"},\"colorscale\":[[0.0,\"#0d0887\"],[0.1111111111111111,\"#46039f\"],[0.2222222222222222,\"#7201a8\"],[0.3333333333333333,\"#9c179e\"],[0.4444444444444444,\"#bd3786\"],[0.5555555555555556,\"#d8576b\"],[0.6666666666666666,\"#ed7953\"],[0.7777777777777778,\"#fb9f3a\"],[0.8888888888888888,\"#fdca26\"],[1.0,\"#f0f921\"]]}],\"heatmap\":[{\"type\":\"heatmap\",\"colorbar\":{\"outlinewidth\":0,\"ticks\":\"\"},\"colorscale\":[[0.0,\"#0d0887\"],[0.1111111111111111,\"#46039f\"],[0.2222222222222222,\"#7201a8\"],[0.3333333333333333,\"#9c179e\"],[0.4444444444444444,\"#bd3786\"],[0.5555555555555556,\"#d8576b\"],[0.6666666666666666,\"#ed7953\"],[0.7777777777777778,\"#fb9f3a\"],[0.8888888888888888,\"#fdca26\"],[1.0,\"#f0f921\"]]}],\"heatmapgl\":[{\"type\":\"heatmapgl\",\"colorbar\":{\"outlinewidth\":0,\"ticks\":\"\"},\"colorscale\":[[0.0,\"#0d0887\"],[0.1111111111111111,\"#46039f\"],[0.2222222222222222,\"#7201a8\"],[0.3333333333333333,\"#9c179e\"],[0.4444444444444444,\"#bd3786\"],[0.5555555555555556,\"#d8576b\"],[0.6666666666666666,\"#ed7953\"],[0.7777777777777778,\"#fb9f3a\"],[0.8888888888888888,\"#fdca26\"],[1.0,\"#f0f921\"]]}],\"contourcarpet\":[{\"type\":\"contourcarpet\",\"colorbar\":{\"outlinewidth\":0,\"ticks\":\"\"}}],\"contour\":[{\"type\":\"contour\",\"colorbar\":{\"outlinewidth\":0,\"ticks\":\"\"},\"colorscale\":[[0.0,\"#0d0887\"],[0.1111111111111111,\"#46039f\"],[0.2222222222222222,\"#7201a8\"],[0.3333333333333333,\"#9c179e\"],[0.4444444444444444,\"#bd3786\"],[0.5555555555555556,\"#d8576b\"],[0.6666666666666666,\"#ed7953\"],[0.7777777777777778,\"#fb9f3a\"],[0.8888888888888888,\"#fdca26\"],[1.0,\"#f0f921\"]]}],\"surface\":[{\"type\":\"surface\",\"colorbar\":{\"outlinewidth\":0,\"ticks\":\"\"},\"colorscale\":[[0.0,\"#0d0887\"],[0.1111111111111111,\"#46039f\"],[0.2222222222222222,\"#7201a8\"],[0.3333333333333333,\"#9c179e\"],[0.4444444444444444,\"#bd3786\"],[0.5555555555555556,\"#d8576b\"],[0.6666666666666666,\"#ed7953\"],[0.7777777777777778,\"#fb9f3a\"],[0.8888888888888888,\"#fdca26\"],[1.0,\"#f0f921\"]]}],\"mesh3d\":[{\"type\":\"mesh3d\",\"colorbar\":{\"outlinewidth\":0,\"ticks\":\"\"}}],\"scatter\":[{\"fillpattern\":{\"fillmode\":\"overlay\",\"size\":10,\"solidity\":0.2},\"type\":\"scatter\"}],\"parcoords\":[{\"type\":\"parcoords\",\"line\":{\"colorbar\":{\"outlinewidth\":0,\"ticks\":\"\"}}}],\"scatterpolargl\":[{\"type\":\"scatterpolargl\",\"marker\":{\"colorbar\":{\"outlinewidth\":0,\"ticks\":\"\"}}}],\"bar\":[{\"error_x\":{\"color\":\"#2a3f5f\"},\"error_y\":{\"color\":\"#2a3f5f\"},\"marker\":{\"line\":{\"color\":\"#E5ECF6\",\"width\":0.5},\"pattern\":{\"fillmode\":\"overlay\",\"size\":10,\"solidity\":0.2}},\"type\":\"bar\"}],\"scattergeo\":[{\"type\":\"scattergeo\",\"marker\":{\"colorbar\":{\"outlinewidth\":0,\"ticks\":\"\"}}}],\"scatterpolar\":[{\"type\":\"scatterpolar\",\"marker\":{\"colorbar\":{\"outlinewidth\":0,\"ticks\":\"\"}}}],\"histogram\":[{\"marker\":{\"pattern\":{\"fillmode\":\"overlay\",\"size\":10,\"solidity\":0.2}},\"type\":\"histogram\"}],\"scattergl\":[{\"type\":\"scattergl\",\"marker\":{\"colorbar\":{\"outlinewidth\":0,\"ticks\":\"\"}}}],\"scatter3d\":[{\"type\":\"scatter3d\",\"line\":{\"colorbar\":{\"outlinewidth\":0,\"ticks\":\"\"}},\"marker\":{\"colorbar\":{\"outlinewidth\":0,\"ticks\":\"\"}}}],\"scattermapbox\":[{\"type\":\"scattermapbox\",\"marker\":{\"colorbar\":{\"outlinewidth\":0,\"ticks\":\"\"}}}],\"scatterternary\":[{\"type\":\"scatterternary\",\"marker\":{\"colorbar\":{\"outlinewidth\":0,\"ticks\":\"\"}}}],\"scattercarpet\":[{\"type\":\"scattercarpet\",\"marker\":{\"colorbar\":{\"outlinewidth\":0,\"ticks\":\"\"}}}],\"carpet\":[{\"aaxis\":{\"endlinecolor\":\"#2a3f5f\",\"gridcolor\":\"white\",\"linecolor\":\"white\",\"minorgridcolor\":\"white\",\"startlinecolor\":\"#2a3f5f\"},\"baxis\":{\"endlinecolor\":\"#2a3f5f\",\"gridcolor\":\"white\",\"linecolor\":\"white\",\"minorgridcolor\":\"white\",\"startlinecolor\":\"#2a3f5f\"},\"type\":\"carpet\"}],\"table\":[{\"cells\":{\"fill\":{\"color\":\"#EBF0F8\"},\"line\":{\"color\":\"white\"}},\"header\":{\"fill\":{\"color\":\"#C8D4E3\"},\"line\":{\"color\":\"white\"}},\"type\":\"table\"}],\"barpolar\":[{\"marker\":{\"line\":{\"color\":\"#E5ECF6\",\"width\":0.5},\"pattern\":{\"fillmode\":\"overlay\",\"size\":10,\"solidity\":0.2}},\"type\":\"barpolar\"}],\"pie\":[{\"automargin\":true,\"type\":\"pie\"}]},\"layout\":{\"autotypenumbers\":\"strict\",\"colorway\":[\"#636efa\",\"#EF553B\",\"#00cc96\",\"#ab63fa\",\"#FFA15A\",\"#19d3f3\",\"#FF6692\",\"#B6E880\",\"#FF97FF\",\"#FECB52\"],\"font\":{\"color\":\"#2a3f5f\"},\"hovermode\":\"closest\",\"hoverlabel\":{\"align\":\"left\"},\"paper_bgcolor\":\"white\",\"plot_bgcolor\":\"#E5ECF6\",\"polar\":{\"bgcolor\":\"#E5ECF6\",\"angularaxis\":{\"gridcolor\":\"white\",\"linecolor\":\"white\",\"ticks\":\"\"},\"radialaxis\":{\"gridcolor\":\"white\",\"linecolor\":\"white\",\"ticks\":\"\"}},\"ternary\":{\"bgcolor\":\"#E5ECF6\",\"aaxis\":{\"gridcolor\":\"white\",\"linecolor\":\"white\",\"ticks\":\"\"},\"baxis\":{\"gridcolor\":\"white\",\"linecolor\":\"white\",\"ticks\":\"\"},\"caxis\":{\"gridcolor\":\"white\",\"linecolor\":\"white\",\"ticks\":\"\"}},\"coloraxis\":{\"colorbar\":{\"outlinewidth\":0,\"ticks\":\"\"}},\"colorscale\":{\"sequential\":[[0.0,\"#0d0887\"],[0.1111111111111111,\"#46039f\"],[0.2222222222222222,\"#7201a8\"],[0.3333333333333333,\"#9c179e\"],[0.4444444444444444,\"#bd3786\"],[0.5555555555555556,\"#d8576b\"],[0.6666666666666666,\"#ed7953\"],[0.7777777777777778,\"#fb9f3a\"],[0.8888888888888888,\"#fdca26\"],[1.0,\"#f0f921\"]],\"sequentialminus\":[[0.0,\"#0d0887\"],[0.1111111111111111,\"#46039f\"],[0.2222222222222222,\"#7201a8\"],[0.3333333333333333,\"#9c179e\"],[0.4444444444444444,\"#bd3786\"],[0.5555555555555556,\"#d8576b\"],[0.6666666666666666,\"#ed7953\"],[0.7777777777777778,\"#fb9f3a\"],[0.8888888888888888,\"#fdca26\"],[1.0,\"#f0f921\"]],\"diverging\":[[0,\"#8e0152\"],[0.1,\"#c51b7d\"],[0.2,\"#de77ae\"],[0.3,\"#f1b6da\"],[0.4,\"#fde0ef\"],[0.5,\"#f7f7f7\"],[0.6,\"#e6f5d0\"],[0.7,\"#b8e186\"],[0.8,\"#7fbc41\"],[0.9,\"#4d9221\"],[1,\"#276419\"]]},\"xaxis\":{\"gridcolor\":\"white\",\"linecolor\":\"white\",\"ticks\":\"\",\"title\":{\"standoff\":15},\"zerolinecolor\":\"white\",\"automargin\":true,\"zerolinewidth\":2},\"yaxis\":{\"gridcolor\":\"white\",\"linecolor\":\"white\",\"ticks\":\"\",\"title\":{\"standoff\":15},\"zerolinecolor\":\"white\",\"automargin\":true,\"zerolinewidth\":2},\"scene\":{\"xaxis\":{\"backgroundcolor\":\"#E5ECF6\",\"gridcolor\":\"white\",\"linecolor\":\"white\",\"showbackground\":true,\"ticks\":\"\",\"zerolinecolor\":\"white\",\"gridwidth\":2},\"yaxis\":{\"backgroundcolor\":\"#E5ECF6\",\"gridcolor\":\"white\",\"linecolor\":\"white\",\"showbackground\":true,\"ticks\":\"\",\"zerolinecolor\":\"white\",\"gridwidth\":2},\"zaxis\":{\"backgroundcolor\":\"#E5ECF6\",\"gridcolor\":\"white\",\"linecolor\":\"white\",\"showbackground\":true,\"ticks\":\"\",\"zerolinecolor\":\"white\",\"gridwidth\":2}},\"shapedefaults\":{\"line\":{\"color\":\"#2a3f5f\"}},\"annotationdefaults\":{\"arrowcolor\":\"#2a3f5f\",\"arrowhead\":0,\"arrowwidth\":1},\"geo\":{\"bgcolor\":\"white\",\"landcolor\":\"#E5ECF6\",\"subunitcolor\":\"white\",\"showland\":true,\"showlakes\":true,\"lakecolor\":\"white\"},\"title\":{\"x\":0.05},\"mapbox\":{\"style\":\"light\"}}}},                        {\"responsive\": true}                    ).then(function(){\n",
              "                            \n",
              "var gd = document.getElementById('80f46769-0014-4d53-85c6-84c2303e2cd7');\n",
              "var x = new MutationObserver(function (mutations, observer) {{\n",
              "        var display = window.getComputedStyle(gd).display;\n",
              "        if (!display || display === 'none') {{\n",
              "            console.log([gd, 'removed!']);\n",
              "            Plotly.purge(gd);\n",
              "            observer.disconnect();\n",
              "        }}\n",
              "}});\n",
              "\n",
              "// Listen for the removal of the full notebook cells\n",
              "var notebookContainer = gd.closest('#notebook-container');\n",
              "if (notebookContainer) {{\n",
              "    x.observe(notebookContainer, {childList: true});\n",
              "}}\n",
              "\n",
              "// Listen for the clearing of the current output cell\n",
              "var outputEl = gd.closest('.output');\n",
              "if (outputEl) {{\n",
              "    x.observe(outputEl, {childList: true});\n",
              "}}\n",
              "\n",
              "                        })                };                            </script>        </div>\n",
              "</body>\n",
              "</html>"
            ]
          },
          "metadata": {}
        }
      ]
    },
    {
      "cell_type": "code",
      "source": [],
      "metadata": {
        "id": "6iOIQKgR-Ikm"
      },
      "execution_count": null,
      "outputs": []
    }
  ]
}